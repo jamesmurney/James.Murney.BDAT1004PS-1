{
 "cells": [
  {
   "cell_type": "markdown",
   "id": "fourth-citation",
   "metadata": {},
   "source": [
    "QUESION #1 --"
   ]
  },
  {
   "cell_type": "markdown",
   "id": "spare-mixture",
   "metadata": {},
   "source": [
    "5 (integer)\n",
    "5.0 (float)\n",
    "5 > 1 (boolean)\n",
    "'5' (character)\n",
    "5 * 2 (integer)\n",
    "'5' * 2 (integer)\n",
    "'5' + '2' (integer)\n",
    "5 / 2 (integer)\n",
    "5 // 2 (integer)\n",
    "[5, 2, 1] (array)\n",
    "5 in [1, 4, 6] (array)\n",
    "Pi (the number) (double)\n"
   ]
  },
  {
   "cell_type": "markdown",
   "id": "boring-render",
   "metadata": {},
   "source": [
    "QUESTION #2 --"
   ]
  },
  {
   "cell_type": "code",
   "execution_count": 1,
   "id": "marine-bride",
   "metadata": {},
   "outputs": [
    {
     "name": "stdout",
     "output_type": "stream",
     "text": [
      "34\r\n"
     ]
    }
   ],
   "source": [
    "string str = \"Supercalifragilisticexpialidocious\";\n",
    "Console.WriteLine(str.Length);"
   ]
  },
  {
   "cell_type": "code",
   "execution_count": 2,
   "id": "analyzed-granny",
   "metadata": {},
   "outputs": [
    {
     "name": "stdout",
     "output_type": "stream",
     "text": [
      "True\r\n"
     ]
    }
   ],
   "source": [
    "string str = \"Supercalifragilisticexpialidocious\";\n",
    "Console.WriteLine(str.Contains(\"ice\"));"
   ]
  },
  {
   "cell_type": "code",
   "execution_count": 3,
   "id": "incoming-girlfriend",
   "metadata": {},
   "outputs": [
    {
     "name": "stdout",
     "output_type": "stream",
     "text": [
      "Supercalifragilisticexpialidocious\r\n"
     ]
    }
   ],
   "source": [
    "string[] words = { \"Supercalifragilisticexpialidocious\", \"Honorificabilitudinitatibus\", \"Bababadalgharaghtakamminarronnkonn\" };\n",
    "string longest = words.Max();Console.WriteLine(longest)"
   ]
  },
  {
   "cell_type": "code",
   "execution_count": 4,
   "id": "voluntary-meeting",
   "metadata": {},
   "outputs": [
    {
     "name": "stdout",
     "output_type": "stream",
     "text": [
      "Initial list is:\n",
      "\n",
      "Berlioz\n",
      "Borodin\n",
      "Brian\n",
      "Bartok\n",
      "Bellini\n",
      "Buxtehude\n",
      "Bernstein\n",
      "\n",
      "List sorted alphabetically:\n",
      "\n",
      "Bartok\n",
      "Bellini\n",
      "Berlioz\n",
      "Bernstein\n",
      "Borodin\n",
      "Brian\n",
      "Buxtehude\n"
     ]
    }
   ],
   "source": [
    "List<string> composers = new List<string>();\n",
    "\n",
    "composers.Add(\"Berlioz\");\n",
    "composers.Add(\"Borodin\");\n",
    "composers.Add(\"Brian\");\n",
    "composers.Add(\"Bartok\");\n",
    "composers.Add(\"Bellini\");\n",
    "composers.Add(\"Buxtehude\");\n",
    "composers.Add(\"Bernstein\");\n",
    "\n",
    "Console.WriteLine(\"Initial list is:\");\n",
    "Console.WriteLine();\n",
    "foreach(string composer in composers)\n",
    "{\n",
    "    Console.WriteLine(composer);\n",
    "}\n",
    "\n",
    "Console.WriteLine(\"\\nList sorted alphabetically:\");\n",
    "composers.Sort();\n",
    "\n",
    "Console.WriteLine();\n",
    "foreach(string composer in composers)\n",
    "{\n",
    "    Console.WriteLine(composer);\n",
    "}"
   ]
  },
  {
   "cell_type": "markdown",
   "id": "separate-nancy",
   "metadata": {},
   "source": [
    "QUESTION #3 --"
   ]
  },
  {
   "cell_type": "code",
   "execution_count": 5,
   "id": "metric-patch",
   "metadata": {},
   "outputs": [
    {
     "name": "stdout",
     "output_type": "stream",
     "text": [
      "1.7320508075688772\r\n"
     ]
    }
   ],
   "source": [
    "var a = (2);\n",
    "var b = (2);\n",
    "var c = (2);\n",
    "var s = ((a+b+c)/2);\n",
    "var f = (Math.Sqrt(s * (s-a) * (s-b) * (s-c)));\n",
    "Console.WriteLine(f);"
   ]
  },
  {
   "cell_type": "markdown",
   "id": "under-webster",
   "metadata": {},
   "source": [
    "QUESTION #4 --"
   ]
  },
  {
   "cell_type": "code",
   "execution_count": 7,
   "id": "brief-glucose",
   "metadata": {},
   "outputs": [
    {
     "name": "stdout",
     "output_type": "stream",
     "text": [
      "Odd element:\n",
      "25\n",
      "Odd element:\n",
      "47\n",
      "Even element:\n",
      "42\n",
      "Even element:\n",
      "56\n",
      "Even element:\n",
      "32\n"
     ]
    }
   ],
   "source": [
    "int[] arr = {25,47,42,56,32};\n",
    "int[] odds = new int[5];  \n",
    "int[] evens = new int[5];\n",
    "int i;\n",
    "int y;\n",
    "\n",
    "for (int i = 0; i<arr.Length; i++)\n",
    "{\n",
    "    if (arr[i] % 2 == 0)\n",
    "    {\n",
    "        evens[i]=arr[i];\n",
    "        Console.WriteLine(\"Even element:\");\n",
    "        Console.WriteLine(evens[i]);\n",
    "    }\n",
    "    \n",
    "    if(arr[i] % 2 != 0)\n",
    "    {\n",
    "        odds[i]=arr[i];\n",
    "        Console.WriteLine(\"Odd element:\");\n",
    "        Console.WriteLine(odds[i]);\n",
    "    }\n",
    "}"
   ]
  },
  {
   "cell_type": "markdown",
   "id": "discrete-wilson",
   "metadata": {},
   "source": [
    "QUESTION #5 --"
   ]
  },
  {
   "cell_type": "code",
   "execution_count": 8,
   "id": "concerned-native",
   "metadata": {},
   "outputs": [
    {
     "name": "stdout",
     "output_type": "stream",
     "text": [
      "True\r\n"
     ]
    }
   ],
   "source": [
    "var x = 2;\n",
    "var y = 3;\n",
    "var x1 = 1;\n",
    "var y1 = 5;\n",
    "var x2 = 4;\n",
    "var y2 = 2;\n",
    "\n",
    "if (x > x1)\n",
    "{    \n",
    "    if (x < x2)\n",
    "    {\n",
    "        if (y > y2)\n",
    "        {\n",
    "            if (y < y1)\n",
    "            {\n",
    "                Console.WriteLine(\"True\");\n",
    "            }\n",
    "            else\n",
    "            {\n",
    "                Console.WriteLine(\"False\");\n",
    "            }\n",
    "        }\n",
    "    }\n",
    "}"
   ]
  }
 ],
 "metadata": {
  "kernelspec": {
   "display_name": ".NET (C#)",
   "language": "C#",
   "name": ".net-csharp"
  },
  "language_info": {
   "file_extension": ".cs",
   "mimetype": "text/x-csharp",
   "name": "C#",
   "pygments_lexer": "csharp",
   "version": "8.0"
  }
 },
 "nbformat": 4,
 "nbformat_minor": 5
}
