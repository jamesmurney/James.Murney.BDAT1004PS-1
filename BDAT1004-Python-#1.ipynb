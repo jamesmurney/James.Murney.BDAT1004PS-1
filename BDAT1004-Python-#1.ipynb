{
 "cells": [
  {
   "cell_type": "markdown",
   "id": "desirable-anger",
   "metadata": {},
   "source": [
    "QUESTION #6 --"
   ]
  },
  {
   "cell_type": "code",
   "execution_count": 2,
   "id": "modern-september",
   "metadata": {},
   "outputs": [
    {
     "name": "stdout",
     "output_type": "stream",
     "text": [
      "Enter a word:happy\n",
      "appyhway\n"
     ]
    }
   ],
   "source": [
    "end = 'way'\n",
    "\n",
    "def pig():\n",
    "    word = (input('Enter a word:'))\n",
    "    if len(word) > 0 and word.isalpha():\n",
    "        word = word.lower()\n",
    "        firstlet = word[0]\n",
    "        if firstlet == ('a' or 'e' or 'i' or 'o' or 'u'):\n",
    "            new_word1 = word + end\n",
    "            print(new_word1)\n",
    "        else:\n",
    "            new_word2 = word[1:] + firstlet + end\n",
    "            print(new_word2)\n",
    "\n",
    "pig()"
   ]
  },
  {
   "cell_type": "markdown",
   "id": "indie-belly",
   "metadata": {},
   "source": [
    "QUESTION #7 --"
   ]
  },
  {
   "cell_type": "code",
   "execution_count": 3,
   "id": "extended-certificate",
   "metadata": {},
   "outputs": [
    {
     "name": "stdout",
     "output_type": "stream",
     "text": [
      "Blood type list:  AB AB B O A A AB O AB A O O A A A O O O AB O A A A A A AB AB A AB O AB O A O O O AB O AB AB AB A A O \n",
      "There are 15 patients of blood type A\n",
      "There are 1 patients of blood type B\n",
      "There are 13 patients of blood type AB\n",
      "There are 15 patients of blood type O\n",
      "There are 0 patients of blood type OO\n"
     ]
    }
   ],
   "source": [
    "def bldcount():\n",
    "    infile = open('C:/Users/James Murney/Bloodtype.txt', \"r\")\n",
    "    content = infile.read()\n",
    "    infile.close()\n",
    "    wordLista = content.count(\"A\")\n",
    "    wordListb = content.count(\"B\")\n",
    "    wordListab = content.count(\"AB\")\n",
    "    wordListo = content.count(\"O\")\n",
    "    wordListoo = content.count(\"OO\")\n",
    "\n",
    "\n",
    "    print(\"Blood type list: \",content)\n",
    "    print(\"There are\",(wordLista-wordListab),\"patients of blood type A\")\n",
    "    print(\"There are\",(wordListb-wordListab),\"patients of blood type B\")\n",
    "    print(\"There are\",wordListab,\"patients of blood type AB\")\n",
    "    print(\"There are\",wordListo,\"patients of blood type O\")\n",
    "    print(\"There are\",wordListoo,\"patients of blood type OO\")\n",
    "\n",
    "bldcount()"
   ]
  },
  {
   "cell_type": "markdown",
   "id": "prepared-tackle",
   "metadata": {},
   "source": [
    "QUESTION #8 --"
   ]
  },
  {
   "cell_type": "code",
   "execution_count": 4,
   "id": "acoustic-halifax",
   "metadata": {},
   "outputs": [
    {
     "name": "stdout",
     "output_type": "stream",
     "text": [
      "Your currency value in USD: 122.96544\n"
     ]
    }
   ],
   "source": [
    "AUD = 1.0345157\n",
    "CHF = 1.0237414\n",
    "CNY = 0.1550176\n",
    "DKK = 0.1651442\n",
    "EUR = 1.2296544\n",
    "GBP = 1.5550989\n",
    "HKD = 0.1270207\n",
    "INR = 0.0177643\n",
    "JPY = 0.01241401\n",
    "MXN = 0.0751848\n",
    "MYR = 0.3145411\n",
    "NOK = 0.1677063\n",
    "NZD = 0.8003591\n",
    "PHP = 0.0233234\n",
    "SEK = 0.148269\n",
    "SGD = 0.788871\n",
    "THB = 0.0313789\n",
    "\n",
    "def curconv(curr, amt):\n",
    "    conv = curr * amt\n",
    "    return conv\n",
    "\n",
    "print(\"Your currency value in USD:\", curconv(EUR,100))"
   ]
  },
  {
   "cell_type": "markdown",
   "id": "opposed-strategy",
   "metadata": {},
   "source": [
    "QUESTION #9 --"
   ]
  },
  {
   "cell_type": "markdown",
   "id": "contemporary-prophet",
   "metadata": {},
   "source": [
    "Trying to add incompatible variables, as in\n",
    "adding 6 + ‘a’ (Type Error)\n",
    "\n",
    "Referring to the 12th item of a list that has only 10\n",
    "items (Index Error)\n",
    "\n",
    "Using a value that is out of range for a function’s\n",
    "input, such as calling math.sqrt(-1.0) (Value Error)\n",
    "\n",
    "Using an undeclared variable, such as print(x)\n",
    "when x has not been defined (Name Error)\n",
    "\n",
    "Trying to open a file that does not exist, such as\n",
    "mistyping the file name or looking in the wrong\n",
    "directory. (OS Error/ FileNotFound Error)"
   ]
  },
  {
   "cell_type": "markdown",
   "id": "mental-filing",
   "metadata": {},
   "source": [
    "QUESTION #10 --"
   ]
  },
  {
   "cell_type": "code",
   "execution_count": 5,
   "id": "dedicated-priest",
   "metadata": {},
   "outputs": [
    {
     "name": "stdout",
     "output_type": "stream",
     "text": [
      "Counter({' ': 8, 'e': 5, 'o': 4, 't': 3, 'd': 3, 'h': 2, 'r': 2, 'n': 2, 'q': 1, 'u': 1, 'i': 1, 'c': 1, 'k': 1, 'f': 1, 'x': 1, 'g': 1, 'b': 1, 'a': 1, 'w': 1, 'm': 1})\n"
     ]
    }
   ],
   "source": [
    "from collections import Counter\n",
    "\n",
    "def frequencies():\n",
    "    content = \"The quick red fox got bored and went home\"\n",
    "    count = Counter(content.lower())\n",
    "    print(count)\n",
    "\n",
    "frequencies()"
   ]
  }
 ],
 "metadata": {
  "kernelspec": {
   "display_name": "Python 3",
   "language": "python",
   "name": "python3"
  },
  "language_info": {
   "codemirror_mode": {
    "name": "ipython",
    "version": 3
   },
   "file_extension": ".py",
   "mimetype": "text/x-python",
   "name": "python",
   "nbconvert_exporter": "python",
   "pygments_lexer": "ipython3",
   "version": "3.8.5"
  }
 },
 "nbformat": 4,
 "nbformat_minor": 5
}
